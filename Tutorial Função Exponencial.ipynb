{
 "cells": [
  {
   "cell_type": "markdown",
   "metadata": {},
   "source": [
    "# Importanto os Pacotes Necessários"
   ]
  },
  {
   "cell_type": "code",
   "execution_count": 21,
   "metadata": {},
   "outputs": [],
   "source": [
    "import ipsimpy as ip\n",
    "import matplotlib.pyplot as plt\n",
    "import numpy as np"
   ]
  },
  {
   "cell_type": "markdown",
   "metadata": {},
   "source": [
    "# Solução do Problema Direto\n",
    "A solução do problema direto será definida da seguinte maneira:\n",
    "\n",
    "$f(t)=ae^{-bt}$"
   ]
  },
  {
   "cell_type": "markdown",
   "metadata": {},
   "source": [
    "sendo os valores de $a$ e $b$ os parâmetros de que queremos estimar.\n",
    "\n",
    "Uma vez conhecida a expressão da solução e os parâmetros de interesse, vamos assumir o vetor de parâmetros como sendo $Z = (a,b)$. Note que ao criar a função que representa a soluçao do nosso problema direto um de seus argumentos precisa ser o vetor de parâmetros."
   ]
  },
  {
   "cell_type": "code",
   "execution_count": 22,
   "metadata": {},
   "outputs": [],
   "source": [
    "def Solucao(Z,t):\n",
    "    a=Z[0]\n",
    "    b=Z[1]\n",
    "    return a*np.exp(-b*t)"
   ]
  },
  {
   "cell_type": "markdown",
   "metadata": {},
   "source": [
    "### Definiçao dos Parâmetros Exatos"
   ]
  },
  {
   "cell_type": "markdown",
   "metadata": {},
   "source": [
    "Em um problema real não conhecemos o valor dos parâmetros exatos mas, nesse tutorial, vamos assumir esses valores como sendo $a=1.0$ e $b=2.5$"
   ]
  },
  {
   "cell_type": "code",
   "execution_count": 23,
   "metadata": {},
   "outputs": [],
   "source": [
    "Z_exato=np.array([1.0,2.5])"
   ]
  },
  {
   "cell_type": "markdown",
   "metadata": {},
   "source": [
    "### Definição dos Dados Experimentais Sintéticos"
   ]
  },
  {
   "cell_type": "markdown",
   "metadata": {},
   "source": [
    "Os parâmetros são recuperados a partir de um conjunto de dados experimentais.\n",
    "\n",
    "Em nosso tutorial vamos considerar um conjunto de dados experimentais gerados artificialmente com 25 medições no intervalo $0 \\leq t \\leq 1$, note que no caso de um problema associado a uma EDP também seria necessário escolher uma posição."
   ]
  },
  {
   "cell_type": "code",
   "execution_count": 24,
   "metadata": {},
   "outputs": [],
   "source": [
    "t0 = 0 # tempo inicial\n",
    "tf = 1 # tempo final"
   ]
  },
  {
   "cell_type": "code",
   "execution_count": 25,
   "metadata": {},
   "outputs": [
    {
     "data": {
      "text/plain": [
       "array([0.1   , 0.1375, 0.175 , 0.2125, 0.25  , 0.2875, 0.325 , 0.3625,\n",
       "       0.4   , 0.4375, 0.475 , 0.5125, 0.55  , 0.5875, 0.625 , 0.6625,\n",
       "       0.7   , 0.7375, 0.775 , 0.8125, 0.85  , 0.8875, 0.925 , 0.9625,\n",
       "       1.    ])"
      ]
     },
     "execution_count": 25,
     "metadata": {},
     "output_type": "execute_result"
    }
   ],
   "source": [
    "t_exp=np.linspace(0.1,tf,25) # tempo experimentais\n",
    "t_exp"
   ]
  },
  {
   "cell_type": "markdown",
   "metadata": {},
   "source": [
    "Com os tempos experimentais, somos capazes de gerar agora o conjunto de dados exatos"
   ]
  },
  {
   "cell_type": "code",
   "execution_count": 26,
   "metadata": {},
   "outputs": [],
   "source": [
    "Dados_Exatos=Solucao(Z_exato,t_exp) # dados exatos "
   ]
  },
  {
   "cell_type": "markdown",
   "metadata": {},
   "source": [
    "Sabemos que todo experimento está associado a erros experimentais, vamos simular esse erro adocionando um ruído gaussinao com média zero e desvio padrão igual a $0.01$. "
   ]
  },
  {
   "cell_type": "code",
   "execution_count": 27,
   "metadata": {},
   "outputs": [],
   "source": [
    "sigma = 0.01"
   ]
  },
  {
   "cell_type": "code",
   "execution_count": 28,
   "metadata": {},
   "outputs": [],
   "source": [
    "Dados_Exp=Dados_Exatos + np.random.normal(0,sigma,len(t_exp))"
   ]
  },
  {
   "cell_type": "markdown",
   "metadata": {},
   "source": [
    "Vejamos graficamente o conjunto gerado"
   ]
  },
  {
   "cell_type": "code",
   "execution_count": 29,
   "metadata": {},
   "outputs": [
    {
     "data": {
      "image/png": "[encoded data removed]",
      "text/plain": [
       "<Figure size 640x480 with 1 Axes>"
      ]
     },
     "metadata": {},
     "output_type": "display_data"
    }
   ],
   "source": [
    "plt.plot(t_exp,Dados_Exp,\".r\",ms=10, label='Dados Sintéticos')\n",
    "plt.plot(t_exp,Dados_Exatos, label='Dados Exatos')\n",
    "plt.legend(frameon=False);"
   ]
  },
  {
   "cell_type": "markdown",
   "metadata": {},
   "source": [
    "# Solução do Problema Inverso\n",
    "Agora utilizaremos o pacote ipsimpy que foi carregado como ip. Será necessário informar ao Pacote algumas informações preliminares que correspondem aos dados e os tempos experimentais, além da função que representa a solução do problema direto."
   ]
  },
  {
   "cell_type": "code",
   "execution_count": 30,
   "metadata": {},
   "outputs": [],
   "source": [
    "def SPD(Z):\n",
    "    a=Z[0]\n",
    "    b=Z[1]\n",
    "    return a*np.exp(-b*t_exp)"
   ]
  },
  {
   "cell_type": "markdown",
   "metadata": {},
   "source": [
    "> note que utilizamos diretamente os tempos experimentais `t_exp`"
   ]
  },
  {
   "cell_type": "markdown",
   "metadata": {},
   "source": [
    "Vamos definir nossa função objetivo como sendo a de mínimos quadrados"
   ]
  },
  {
   "cell_type": "code",
   "execution_count": 31,
   "metadata": {},
   "outputs": [],
   "source": [
    "def FO(Z):\n",
    "    Dados_Calc=SPD(Z)\n",
    "    return np.dot(Dados_Calc - Dados_Exp, Dados_Calc - Dados_Exp)"
   ]
  },
  {
   "cell_type": "markdown",
   "metadata": {},
   "source": [
    "Vamos testar nossa função objetivo considerando o vetor de parâmetros $Z=(1,1)$"
   ]
  },
  {
   "cell_type": "code",
   "execution_count": 33,
   "metadata": {},
   "outputs": [
    {
     "data": {
      "text/plain": [
       "2.037507645143717"
      ]
     },
     "execution_count": 33,
     "metadata": {},
     "output_type": "execute_result"
    }
   ],
   "source": [
    "FO(np.array([1.,1.]))"
   ]
  },
  {
   "cell_type": "markdown",
   "metadata": {},
   "source": [
    "Nesse momento o pacote precisa saber:\n",
    "* Os dados experimentais\n",
    "* Os tempos experimentais\n",
    "* A função objetivos\n",
    "* A solução do problema direto \n",
    "* O número de parâmetros"
   ]
  },
  {
   "cell_type": "code",
   "execution_count": 32,
   "metadata": {},
   "outputs": [],
   "source": [
    "ip.Definicoes_Preliminares.Set_Dados_Exp(Dados_Exp)\n",
    "ip.Definicoes_Preliminares.Set_Tempos_Exp(t_exp)\n",
    "ip.Definicoes_Preliminares.Set_FuncaoObjetivo(FO)\n",
    "ip.Definicoes_Preliminares.Set_Solucao_PD(SPD)\n",
    "ip.Definicoes_Preliminares.Set_Numero_Parametros(Z_exato.size)"
   ]
  },
  {
   "cell_type": "markdown",
   "metadata": {},
   "source": [
    "Note que ao passar a função objetivo o ipsimpy passa a utilizá-la da seguinte maneira:"
   ]
  },
  {
   "cell_type": "code",
   "execution_count": 34,
   "metadata": {},
   "outputs": [
    {
     "data": {
      "text/plain": [
       "2.037507645143717"
      ]
     },
     "execution_count": 34,
     "metadata": {},
     "output_type": "execute_result"
    }
   ],
   "source": [
    "ip.Definicoes_Preliminares.FO(np.array([1.,1.]))"
   ]
  },
  {
   "cell_type": "markdown",
   "metadata": {},
   "source": [
    "> A definição da função objetivo será de responsabilidade do usuário. Caso exista algum parâmetro de regularização este já deve ser inserido na formulação da FO."
   ]
  },
  {
   "cell_type": "markdown",
   "metadata": {},
   "source": [
    "## Análise de Sensibilidade"
   ]
  },
  {
   "cell_type": "markdown",
   "metadata": {},
   "source": [
    "Uma etapa muito importante na solução que qualquer problema inverso é a avaliação da sensibilidade dos parâmetros. Para isso vamos criar um vetor de tempo com 100 elementos."
   ]
  },
  {
   "cell_type": "code",
   "execution_count": 35,
   "metadata": {},
   "outputs": [],
   "source": [
    "t_sensibilidade=np.linspace(0.1,tf,100)"
   ]
  },
  {
   "cell_type": "markdown",
   "metadata": {},
   "source": [
    "Após isso criamos uma solução do problema direto que nos possibilite calcular o valor do modelo nesses tempos associados a um determinado vetor de parâmetros"
   ]
  },
  {
   "cell_type": "code",
   "execution_count": 36,
   "metadata": {},
   "outputs": [],
   "source": [
    "def SPD_Sensibilidade(Z):\n",
    "    return Solucao(Z,t_sensibilidade)"
   ]
  },
  {
   "cell_type": "markdown",
   "metadata": {},
   "source": [
    "O ipsimpy calcula as derivadas numericamente por diferenças finitas centradas, logo é resposabilidade do usuário escolher um passo $\\Delta h$ que esteja adequado a magnitude dos valores da função"
   ]
  },
  {
   "cell_type": "code",
   "execution_count": 37,
   "metadata": {
    "scrolled": true
   },
   "outputs": [],
   "source": [
    "Delta_h=np.array([10**-3,10**-3])"
   ]
  },
  {
   "cell_type": "markdown",
   "metadata": {},
   "source": [
    "Com esses informações podemos proceder a análise de sensibilidade"
   ]
  },
  {
   "cell_type": "code",
   "execution_count": null,
   "metadata": {},
   "outputs": [],
   "source": [
    "Sensibilidade = ip.Analise_Sensibilidade(SPD_Sensibilidade,Z_exato,t_sensibilidade,Delta_h)"
   ]
  },
  {
   "cell_type": "markdown",
   "metadata": {},
   "source": [
    "Caso seja do seu interesse também é possível ver a matriz de sensibilidade"
   ]
  },
  {
   "cell_type": "code",
   "execution_count": 40,
   "metadata": {},
   "outputs": [
    {
     "data": {
      "text/plain": [
       "array([[ 0.77880078, -0.07788008],\n",
       "       [ 0.76130039, -0.08305095],\n",
       "       [ 0.74419324, -0.08795011],\n",
       "       [ 0.72747051, -0.09258716],\n",
       "       [ 0.71112355, -0.09697139],\n",
       "       [ 0.69514393, -0.10111184],\n",
       "       [ 0.67952338, -0.10501725],\n",
       "       [ 0.66425384, -0.10869608],\n",
       "       [ 0.64932743, -0.11215656],\n",
       "       [ 0.63473642, -0.11540662],\n",
       "       [ 0.62047329, -0.11845399],\n",
       "       [ 0.60653066, -0.12130613],\n",
       "       [ 0.59290134, -0.12397028],\n",
       "       [ 0.57957828, -0.12645344],\n",
       "       [ 0.5665546 , -0.12876241],\n",
       "       [ 0.55382358, -0.13090376],\n",
       "       [ 0.54137864, -0.13288385],\n",
       "       [ 0.52921334, -0.13470885],\n",
       "       [ 0.51732141, -0.13638474],\n",
       "       [ 0.50569671, -0.13791729],\n",
       "       [ 0.49433322, -0.13931209],\n",
       "       [ 0.48322508, -0.14057457],\n",
       "       [ 0.47236655, -0.14170997],\n",
       "       [ 0.46175203, -0.14272336],\n",
       "       [ 0.45137602, -0.14361964],\n",
       "       [ 0.44123317, -0.14440358],\n",
       "       [ 0.43131824, -0.14507977],\n",
       "       [ 0.42162611, -0.14565266],\n",
       "       [ 0.41215176, -0.14612654],\n",
       "       [ 0.40289032, -0.14650557],\n",
       "       [ 0.39383699, -0.14679379],\n",
       "       [ 0.3849871 , -0.14699508],\n",
       "       [ 0.37633607, -0.1471132 ],\n",
       "       [ 0.36787944, -0.14715178],\n",
       "       [ 0.35961284, -0.14711435],\n",
       "       [ 0.351532  , -0.14700429],\n",
       "       [ 0.34363274, -0.1468249 ],\n",
       "       [ 0.33591098, -0.14657934],\n",
       "       [ 0.32836274, -0.14627068],\n",
       "       [ 0.32098412, -0.14590188],\n",
       "       [ 0.3137713 , -0.14547579],\n",
       "       [ 0.30672056, -0.14499518],\n",
       "       [ 0.29982825, -0.14446271],\n",
       "       [ 0.29309083, -0.14388096],\n",
       "       [ 0.2865048 , -0.1432524 ],\n",
       "       [ 0.28006676, -0.14257945],\n",
       "       [ 0.27377339, -0.1418644 ],\n",
       "       [ 0.26762144, -0.1411095 ],\n",
       "       [ 0.26160774, -0.14031688],\n",
       "       [ 0.25572916, -0.13948864],\n",
       "       [ 0.24998268, -0.13862677],\n",
       "       [ 0.24436533, -0.13773319],\n",
       "       [ 0.23887421, -0.13680978],\n",
       "       [ 0.23350648, -0.13585832],\n",
       "       [ 0.22825937, -0.13488054],\n",
       "       [ 0.22313016, -0.1338781 ],\n",
       "       [ 0.21811621, -0.13285261],\n",
       "       [ 0.21321493, -0.1318056 ],\n",
       "       [ 0.20842379, -0.13073857],\n",
       "       [ 0.20374031, -0.12965293],\n",
       "       [ 0.19916207, -0.12855007],\n",
       "       [ 0.19468671, -0.12743131],\n",
       "       [ 0.19031191, -0.12629791],\n",
       "       [ 0.18603542, -0.12515111],\n",
       "       [ 0.18185503, -0.12399207],\n",
       "       [ 0.17776857, -0.12282193],\n",
       "       [ 0.17377394, -0.12164177],\n",
       "       [ 0.16986908, -0.12045263],\n",
       "       [ 0.16605196, -0.11925551],\n",
       "       [ 0.16232061, -0.11805136],\n",
       "       [ 0.15867311, -0.11684112],\n",
       "       [ 0.15510758, -0.11562566],\n",
       "       [ 0.15162216, -0.11440582],\n",
       "       [ 0.14821507, -0.11318243],\n",
       "       [ 0.14488453, -0.11195624],\n",
       "       [ 0.14162884, -0.11072801],\n",
       "       [ 0.1384463 , -0.10949845],\n",
       "       [ 0.13533528, -0.10826824],\n",
       "       [ 0.13229417, -0.10703802],\n",
       "       [ 0.12932139, -0.10580843],\n",
       "       [ 0.12641542, -0.10458004],\n",
       "       [ 0.12357474, -0.10335343],\n",
       "       [ 0.1207979 , -0.10212915],\n",
       "       [ 0.11808346, -0.10090769],\n",
       "       [ 0.11543001, -0.09968957],\n",
       "       [ 0.11283619, -0.09847523],\n",
       "       [ 0.11030065, -0.09726513],\n",
       "       [ 0.10782209, -0.09605969],\n",
       "       [ 0.10539922, -0.09485931],\n",
       "       [ 0.1030308 , -0.09366438],\n",
       "       [ 0.1007156 , -0.09247525],\n",
       "       [ 0.09845243, -0.09129226],\n",
       "       [ 0.09624011, -0.09011575],\n",
       "       [ 0.0940775 , -0.08894601],\n",
       "       [ 0.09196349, -0.08778334],\n",
       "       [ 0.08989698, -0.08662801],\n",
       "       [ 0.08787691, -0.08548028],\n",
       "       [ 0.08590223, -0.08434039],\n",
       "       [ 0.08397193, -0.08320856],\n",
       "       [ 0.082085  , -0.08208501]])"
      ]
     },
     "execution_count": 40,
     "metadata": {},
     "output_type": "execute_result"
    }
   ],
   "source": [
    "Sensibilidade.Matriz"
   ]
  },
  {
   "cell_type": "markdown",
   "metadata": {},
   "source": [
    "Podemos ver gráficamente os coeficientes de sensibilidade de cada parâmetro"
   ]
  },
  {
   "cell_type": "code",
   "execution_count": 41,
   "metadata": {},
   "outputs": [
    {
     "data": {
      "image/png": "[encoded data removed]",
      "text/plain": [
       "<Figure size 640x480 with 1 Axes>"
      ]
     },
     "metadata": {},
     "output_type": "display_data"
    }
   ],
   "source": [
    "plt.figure()\n",
    "plt.title(\"Análise de Sensibilidade\")\n",
    "plt.plot(t_sensibilidade,Sensibilidade.Parametro[0],label='a')\n",
    "plt.plot(t_sensibilidade,Sensibilidade.Parametro[1],label='b')\n",
    "plt.legend(frameon=False);"
   ]
  },
  {
   "cell_type": "markdown",
   "metadata": {},
   "source": [
    "> A ordem dos parâmetros é definida na solução do problema direto (função SPD nesse tutorial)"
   ]
  },
  {
   "cell_type": "markdown",
   "metadata": {},
   "source": [
    "# Solução do Problema Inverso"
   ]
  },
  {
   "cell_type": "markdown",
   "metadata": {},
   "source": [
    "Vamos apresentar a solução do problema inverso como um problema de otimização com os seguintes métodos:\n",
    "* Levember-Marquardt (LM)\n",
    "* Luus_Jaakola (LJ)\n",
    "* Evolução Diferencial (DE)\n",
    "* Enxame de Partículas (PSO)"
   ]
  },
  {
   "cell_type": "markdown",
   "metadata": {},
   "source": [
    "#### Solução Problema Inverso Levemberg-Marquardt\n",
    "Para cada método de otimização é possível definir valores para algumas opções específicas opcionais. Essas opções são formuladas como um dicionário em python. \n",
    "\n",
    "Chamo atenção para o fato de que, por padrão, essas opções já possuem um valor defaut. Vejamos seus valores:"
   ]
  },
  {
   "cell_type": "code",
   "execution_count": 42,
   "metadata": {
    "scrolled": true
   },
   "outputs": [
    {
     "data": {
      "text/plain": [
       "{'Omega': 10, 'MaxIter': 10, 'Tolerancia': 1e-05, 'VerOpcoes': False}"
      ]
     },
     "execution_count": 42,
     "metadata": {},
     "output_type": "execute_result"
    }
   ],
   "source": [
    "ip.Levemberg_Marquardt.Defaut"
   ]
  },
  {
   "cell_type": "markdown",
   "metadata": {},
   "source": [
    "Vamos agora escolher o chute inicial $Z_{0}$ e modificar algumas das opções default"
   ]
  },
  {
   "cell_type": "code",
   "execution_count": 43,
   "metadata": {},
   "outputs": [],
   "source": [
    "Z0=np.array([2.0,5.0])\n",
    "Delta_h=np.array([10**-3,10**-3])\n",
    "opcoesLM={\"Omega\":10,\"MaxIter\":10,\"Tolerancia\":10**-10,\"VerOpcoes\":True}"
   ]
  },
  {
   "cell_type": "markdown",
   "metadata": {},
   "source": [
    "Nesse momento podemos resolver o problema inverso. A variável ResultadosLM guarda várias informações relevantes"
   ]
  },
  {
   "cell_type": "code",
   "execution_count": 44,
   "metadata": {},
   "outputs": [
    {
     "name": "stdout",
     "output_type": "stream",
     "text": [
      "Iteração: 10\n",
      " \n",
      "OPÇÕES LEVEMBERG MARQUARDT\n",
      "omega inicial=1e+01\n",
      "omega final=1e-09\n",
      "Pk= [0.99061238 2.45004763]\n",
      "Tolerância=1e-10\n",
      "Valor na FO=3.01407e-03\n",
      "Numero Máximo de Iterações= 10\n",
      "Numero de Iterações Utilizado= 10\n",
      "Passo h=[0.001 0.001]\n",
      " \n"
     ]
    }
   ],
   "source": [
    "ResultadosLM=ip.Levemberg_Marquardt(FO,Z0,Delta_h,opcoesLM)"
   ]
  },
  {
   "cell_type": "code",
   "execution_count": 46,
   "metadata": {},
   "outputs": [
    {
     "data": {
      "text/plain": [
       "array([0.99061238, 2.45004763])"
      ]
     },
     "execution_count": 46,
     "metadata": {},
     "output_type": "execute_result"
    }
   ],
   "source": [
    "ResultadosLM.Parametros_Estimados"
   ]
  },
  {
   "cell_type": "code",
   "execution_count": 18,
   "metadata": {},
   "outputs": [
    {
     "data": {
      "text/plain": [
       "0.002570053393949831"
      ]
     },
     "execution_count": 18,
     "metadata": {},
     "output_type": "execute_result"
    }
   ],
   "source": [
    "ResultadosLM.Valor_FO"
   ]
  },
  {
   "cell_type": "code",
   "execution_count": 47,
   "metadata": {},
   "outputs": [
    {
     "data": {
      "text/plain": [
       "array([0.51650003, 0.40864532, 0.22727718, 0.00967309, 0.00301515,\n",
       "       0.00301407, 0.00301407, 0.00301407, 0.00301407, 0.00301407])"
      ]
     },
     "execution_count": 47,
     "metadata": {},
     "output_type": "execute_result"
    }
   ],
   "source": [
    "ResultadosLM.Convergencia"
   ]
  },
  {
   "cell_type": "code",
   "execution_count": 19,
   "metadata": {},
   "outputs": [
    {
     "data": {
      "text/plain": [
       "array([0.5044683 , 0.39300259, 0.21804787, 0.00888775, 0.00257075,\n",
       "       0.00257005, 0.00257005, 0.00257005, 0.00257005, 0.00257005])"
      ]
     },
     "execution_count": 19,
     "metadata": {},
     "output_type": "execute_result"
    }
   ],
   "source": [
    "ResultadosLM.Convergencia"
   ]
  },
  {
   "cell_type": "code",
   "execution_count": 20,
   "metadata": {},
   "outputs": [
    {
     "data": {
      "text/plain": [
       "0.034982919692993164"
      ]
     },
     "execution_count": 20,
     "metadata": {},
     "output_type": "execute_result"
    }
   ],
   "source": [
    "ResultadosLM.Custo_Computacional"
   ]
  },
  {
   "cell_type": "markdown",
   "metadata": {},
   "source": [
    "**Obs:** Todos os outros métodos de minimização possuem essas mesmas características"
   ]
  },
  {
   "cell_type": "markdown",
   "metadata": {},
   "source": [
    "Vejamos a comparação dos gráficos entre as soluções com os parâmetros exatos e estimados juntamente com os dados experimentais "
   ]
  },
  {
   "cell_type": "code",
   "execution_count": 48,
   "metadata": {},
   "outputs": [
    {
     "data": {
      "image/png": "[encoded data removed]",
      "text/plain": [
       "<Figure size 640x480 with 1 Axes>"
      ]
     },
     "metadata": {},
     "output_type": "display_data"
    }
   ],
   "source": [
    "plt.plot(t_exp,Dados_Exp,\".r\",ms=10)\n",
    "plt.plot(t_exp,ip.Definicoes_Preliminares.Solucao_PD(Z_exato),\"g\")\n",
    "plt.plot(t_exp,ip.Definicoes_Preliminares.Solucao_PD(ResultadosLM.Parametros_Estimados),\"--k\")\n",
    "plt.gca().legend(('Dados','Exato','LM'))\n",
    "plt.xlabel('t')\n",
    "plt.ylabel('Solucao');"
   ]
  },
  {
   "cell_type": "markdown",
   "metadata": {},
   "source": [
    "#### Solução Problema Inverso Evolução Diferencial\n",
    "\n",
    "Vejamos as opções defaut para o evolução diferencial"
   ]
  },
  {
   "cell_type": "code",
   "execution_count": 49,
   "metadata": {},
   "outputs": [
    {
     "data": {
      "text/plain": [
       "{'F': 0.8, 'CR': 0.5, 'Gmax': 100, 'Tolerancia': 1e-05, 'VerOpcoes': False}"
      ]
     },
     "execution_count": 49,
     "metadata": {},
     "output_type": "execute_result"
    }
   ],
   "source": [
    "ip.Evolucao_Diferencial.Defaut"
   ]
  },
  {
   "cell_type": "markdown",
   "metadata": {},
   "source": [
    "No DE temos que especificar um intervalo de busca para cada parâmetros como uma lista de listas ou lista de tuplas"
   ]
  },
  {
   "cell_type": "code",
   "execution_count": 50,
   "metadata": {},
   "outputs": [],
   "source": [
    "limites=[(0.0,10.0),(0.0,10.0)]"
   ]
  },
  {
   "cell_type": "code",
   "execution_count": 52,
   "metadata": {},
   "outputs": [
    {
     "name": "stdout",
     "output_type": "stream",
     "text": [
      "Geração: 4"
     ]
    },
    {
     "name": "stdout",
     "output_type": "stream",
     "text": [
      "Geração: 50\n",
      "\n",
      "OPÇÕES EVOLUÇÃO DIFERENCIAL\n",
      "Tamanho População=20\n",
      "Numero Máximo de Gerações=50\n",
      "Numero de Gerações Utilizado=50\n",
      "Taxa de Mutacao=0.75\n",
      "Taxa de CrossOver=0.9\n",
      "Melhor Membro da População=[0.99067365 2.45024545]\n",
      "Valor na FO=3.014075e-03\n",
      "Tolerância=1e-10\n",
      "\n"
     ]
    }
   ],
   "source": [
    "Tam_Populacao=20\n",
    "opcoesDE={\"F\":0.75, \"CR\":0.9, \"Gmax\":50, \"Tolerancia\":10**-10,\"VerOpcoes\":True}\n",
    "ResultadosDE=ip.Evolucao_Diferencial(FO,Tam_Populacao,limites,opcoesDE)"
   ]
  },
  {
   "cell_type": "markdown",
   "metadata": {},
   "source": [
    "Vamos mais uma vez os gráficos das curvas de solução usando os parâmetros exatos e os estimados usando o ipsimpy"
   ]
  },
  {
   "cell_type": "code",
   "execution_count": 54,
   "metadata": {},
   "outputs": [
    {
     "data": {
      "image/png": "[encoded data removed]",
      "text/plain": [
       "<Figure size 640x480 with 1 Axes>"
      ]
     },
     "metadata": {},
     "output_type": "display_data"
    }
   ],
   "source": [
    "plt.plot(t_exp,Dados_Exp,\".r\",ms=10)\n",
    "plt.plot(t_exp,ip.Definicoes_Preliminares.Solucao_PD(Z_exato),\"g\")\n",
    "plt.plot(t_exp,ip.Definicoes_Preliminares.Solucao_PD(ResultadosDE.Parametros_Estimados),\"--\")\n",
    "plt.gca().legend(('Dados','Exato','ED'))\n",
    "plt.xlabel('t')\n",
    "plt.ylabel('Solucao');"
   ]
  },
  {
   "cell_type": "code",
   "execution_count": null,
   "metadata": {},
   "outputs": [],
   "source": []
  },
  {
   "cell_type": "markdown",
   "metadata": {},
   "source": [
    "#### Solução Problema Inverso PSO\n",
    "\n",
    "Por fim temos a solução empregando o Particle Swarm Optimization, sendo as opções defaut definidas como"
   ]
  },
  {
   "cell_type": "code",
   "execution_count": 55,
   "metadata": {},
   "outputs": [
    {
     "data": {
      "text/plain": [
       "{'w': 0.5,\n",
       " 'c1': 1.0,\n",
       " 'c2': 2.0,\n",
       " 'MaxIter': 100,\n",
       " 'Tolerancia': 1e-05,\n",
       " 'VerOpcoes': False}"
      ]
     },
     "execution_count": 55,
     "metadata": {},
     "output_type": "execute_result"
    }
   ],
   "source": [
    "ip.PSO.Defaut"
   ]
  },
  {
   "cell_type": "markdown",
   "metadata": {},
   "source": [
    "Aplicando agora o PSO ao problema inverso"
   ]
  },
  {
   "cell_type": "code",
   "execution_count": 58,
   "metadata": {},
   "outputs": [
    {
     "name": "stdout",
     "output_type": "stream",
     "text": [
      "Geração: 50\n",
      "OPÇÕES ENXAME DE PARTÍCULAS (PSO)\n",
      "Numero de Particulas=20\n",
      "Numero Máximo de Iterações=50\n",
      "Numero de Iterações Utilizado=50\n",
      "w=1.0\n",
      "c1=2.05\n",
      "c2=2.05\n",
      "Tolerancia=1e-10\n",
      "Melhor Elemento do Enxame= [0.99016728 2.44963786]\n",
      "Valor na FO=3.014491e-03\n",
      "\n"
     ]
    }
   ],
   "source": [
    "limites=([0.0,10.0],[0.0,10.0])\n",
    "N_particulas=20\n",
    "opcoesPSO={\"w\":1.0, \"c1\":2.05, \"c2\":2.05, \"MaxIter\":50, \"Tolerancia\":10**-10,\"VerOpcoes\":True}\n",
    "ResultadosPSO=ip.PSO(FO,N_particulas,limites,opcoesPSO)"
   ]
  },
  {
   "cell_type": "code",
   "execution_count": 59,
   "metadata": {},
   "outputs": [
    {
     "data": {
      "text/plain": [
       "<matplotlib.legend.Legend at 0x1e7ec9487a0>"
      ]
     },
     "execution_count": 59,
     "metadata": {},
     "output_type": "execute_result"
    },
    {
     "data": {
      "image/png": "[encoded data removed]",
      "text/plain": [
       "<Figure size 640x480 with 1 Axes>"
      ]
     },
     "metadata": {},
     "output_type": "display_data"
    }
   ],
   "source": [
    "plt.plot(t_exp,Dados_Exp,\".g\",ms=10)\n",
    "plt.plot(t_exp,ip.Definicoes_Preliminares.Solucao_PD(Z_exato),\"r\")\n",
    "plt.plot(t_exp,ip.Definicoes_Preliminares.Solucao_PD(ResultadosPSO.Parametros_Estimados),\"--k\")\n",
    "plt.gca().legend(('Dados','Exato','PSO'))"
   ]
  },
  {
   "cell_type": "markdown",
   "metadata": {},
   "source": [
    "# Comparação dos Resultados"
   ]
  },
  {
   "cell_type": "code",
   "execution_count": 60,
   "metadata": {},
   "outputs": [
    {
     "name": "stdout",
     "output_type": "stream",
     "text": [
      "LM   = [0.99061238 2.45004763]\n",
      "DE   = [0.99067365 2.45024545]\n",
      "PSO  = [0.99016728 2.44963786]\n"
     ]
    }
   ],
   "source": [
    "print(\"LM   =\",ResultadosLM.Parametros_Estimados)\n",
    "print(\"DE   =\",ResultadosDE.Parametros_Estimados)\n",
    "print(\"PSO  =\",ResultadosPSO.Parametros_Estimados)"
   ]
  },
  {
   "cell_type": "code",
   "execution_count": null,
   "metadata": {},
   "outputs": [],
   "source": []
  }
 ],
 "metadata": {
  "kernelspec": {
   "display_name": "base",
   "language": "python",
   "name": "python3"
  },
  "language_info": {
   "codemirror_mode": {
    "name": "ipython",
    "version": 3
   },
   "file_extension": ".py",
   "mimetype": "text/x-python",
   "name": "python",
   "nbconvert_exporter": "python",
   "pygments_lexer": "ipython3",
   "version": "3.12.7"
  },
  "varInspector": {
   "cols": {
    "lenName": 16,
    "lenType": 16,
    "lenVar": 40
   },
   "kernels_config": {
    "python": {
     "delete_cmd_postfix": "",
     "delete_cmd_prefix": "del ",
     "library": "var_list.py",
     "varRefreshCmd": "print(var_dic_list())"
    },
    "r": {
     "delete_cmd_postfix": ") ",
     "delete_cmd_prefix": "rm(",
     "library": "var_list.r",
     "varRefreshCmd": "cat(var_dic_list()) "
    }
   },
   "types_to_exclude": [
    "module",
    "function",
    "builtin_function_or_method",
    "instance",
    "_Feature"
   ],
   "window_display": false
  }
 },
 "nbformat": 4,
 "nbformat_minor": 4
}
