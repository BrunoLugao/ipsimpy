{
 "cells": [
  {
   "cell_type": "markdown",
   "metadata": {},
   "source": [
    "# Importanto os Pacotes Necessários"
   ]
  },
  {
   "cell_type": "code",
   "execution_count": 21,
   "metadata": {},
   "outputs": [],
   "source": [
    "import ipsimpy as ip\n",
    "import matplotlib.pyplot as plt\n",
    "import numpy as np"
   ]
  },
  {
   "cell_type": "markdown",
   "metadata": {},
   "source": [
    "# Solução do Problema Direto\n",
    "A solução do problema direto será definida da seguinte maneira:\n",
    "\n",
    "$f(t)=ae^{-bt}$"
   ]
  },
  {
   "cell_type": "markdown",
   "metadata": {},
   "source": [
    "sendo os valores de $a$ e $b$ os parâmetros de que queremos estimar.\n",
    "\n",
    "Uma vez conhecida a expressão da solução e os parâmetros de interesse, vamos assumir o vetor de parâmetros como sendo $Z = (a,b)$. Note que ao criar a função que representa a soluçao do nosso problema direto um de seus argumentos precisa ser o vetor de parâmetros."
   ]
  },
  {
   "cell_type": "code",
   "execution_count": 22,
   "metadata": {},
   "outputs": [],
   "source": [
    "def Solucao(Z,t):\n",
    "    a=Z[0]\n",
    "    b=Z[1]\n",
    "    return a*np.exp(-b*t)"
   ]
  },
  {
   "cell_type": "markdown",
   "metadata": {},
   "source": [
    "### Definiçao dos Parâmetros Exatos"
   ]
  },
  {
   "cell_type": "markdown",
   "metadata": {},
   "source": [
    "Em um problema real não conhecemos o valor dos parâmetros exatos mas, nesse tutorial, vamos assumir esses valores como sendo $a=1.0$ e $b=2.5$"
   ]
  },
  {
   "cell_type": "code",
   "execution_count": 23,
   "metadata": {},
   "outputs": [],
   "source": [
    "Z_exato=np.array([1.0,2.5])"
   ]
  },
  {
   "cell_type": "markdown",
   "metadata": {},
   "source": [
    "### Definição dos Dados Experimentais Sintéticos"
   ]
  },
  {
   "cell_type": "markdown",
   "metadata": {},
   "source": [
    "Os parâmetros são recuperados a partir de um conjunto de dados experimentais.\n",
    "\n",
    "Em nosso tutorial vamos considerar um conjunto de dados experimentais gerados artificialmente com 25 medições no intervalo $0 \\leq t \\leq 1$, note que no caso de um problema associado a uma EDP também seria necessário escolher uma posição."
   ]
  },
  {
   "cell_type": "code",
   "execution_count": 24,
   "metadata": {},
   "outputs": [],
   "source": [
    "t0 = 0 # tempo inicial\n",
    "tf = 1 # tempo final"
   ]
  },
  {
   "cell_type": "code",
   "execution_count": 25,
   "metadata": {},
   "outputs": [
    {
     "data": {
      "text/plain": [
       "array([0.1   , 0.1375, 0.175 , 0.2125, 0.25  , 0.2875, 0.325 , 0.3625,\n",
       "       0.4   , 0.4375, 0.475 , 0.5125, 0.55  , 0.5875, 0.625 , 0.6625,\n",
       "       0.7   , 0.7375, 0.775 , 0.8125, 0.85  , 0.8875, 0.925 , 0.9625,\n",
       "       1.    ])"
      ]
     },
     "execution_count": 25,
     "metadata": {},
     "output_type": "execute_result"
    }
   ],
   "source": [
    "t_exp=np.linspace(0.1,tf,25) # tempo experimentais\n",
    "t_exp"
   ]
  },
  {
   "cell_type": "markdown",
   "metadata": {},
   "source": [
    "Com os tempos experimentais, somos capazes de gerar agora o conjunto de dados exatos"
   ]
  },
  {
   "cell_type": "code",
   "execution_count": 26,
   "metadata": {},
   "outputs": [],
   "source": [
    "Dados_Exatos=Solucao(Z_exato,t_exp) # dados exatos "
   ]
  },
  {
   "cell_type": "markdown",
   "metadata": {},
   "source": [
    "Sabemos que todo experimento está associado a erros experimentais, vamos simular esse erro adocionando um ruído gaussinao com média zero e desvio padrão igual a $0.01$. "
   ]
  },
  {
   "cell_type": "code",
   "execution_count": 27,
   "metadata": {},
   "outputs": [],
   "source": [
    "sigma = 0.01"
   ]
  },
  {
   "cell_type": "code",
   "execution_count": 28,
   "metadata": {},
   "outputs": [],
   "source": [
    "Dados_Exp=Dados_Exatos + np.random.normal(0,sigma,len(t_exp))"
   ]
  },
  {
   "cell_type": "markdown",
   "metadata": {},
   "source": [
    "Vejamos graficamente o conjunto gerado"
   ]
  },
  {
   "cell_type": "code",
   "execution_count": 29,
   "metadata": {},
   "outputs": [
    {
     "data": {
      "image/png": "[encoded data removed]",
      "text/plain": [
       "<Figure size 640x480 with 1 Axes>"
      ]
     },
     "metadata": {},
     "output_type": "display_data"
    }
   ],
   "source": [
    "plt.plot(t_exp,Dados_Exp,\".r\",ms=10, label='Dados Sintéticos')\n",
    "plt.plot(t_exp,Dados_Exatos, label='Dados Exatos')\n",
    "plt.legend(frameon=False);"
   ]
  },
  {
   "cell_type": "markdown",
   "metadata": {},
   "source": [
    "# Solução do Problema Inverso\n",
    "Agora utilizaremos o pacote ipsimpy que foi carregado como ip. Será necessário informar ao Pacote algumas informações preliminares que correspondem aos dados e os tempos experimentais, além da função que representa a solução do problema direto."
   ]
  },
  {
   "cell_type": "code",
   "execution_count": 30,
   "metadata": {},
   "outputs": [],
   "source": [
    "def SPD(Z):\n",
    "    a=Z[0]\n",
    "    b=Z[1]\n",
    "    return a*np.exp(-b*t_exp)"
   ]
  },
  {
   "cell_type": "markdown",
   "metadata": {},
   "source": [
    "> note que utilizamos diretamente os tempos experimentais `t_exp`"
   ]
  },
  {
   "cell_type": "markdown",
   "metadata": {},
   "source": [
    "Vamos definir nossa função objetivo como sendo a de mínimos quadrados"
   ]
  },
  {
   "cell_type": "code",
   "execution_count": 31,
   "metadata": {},
   "outputs": [],
   "source": [
    "def FO(Z):\n",
    "    Dados_Calc=SPD(Z)\n",
    "    return np.dot(Dados_Calc - Dados_Exp, Dados_Calc - Dados_Exp)"
   ]
  },
  {
   "cell_type": "markdown",
   "metadata": {},
   "source": [
    "Vamos testar nossa função objetivo considerando o vetor de parâmetros $Z=(1,1)$"
   ]
  },
  {
   "cell_type": "code",
   "execution_count": 33,
   "metadata": {},
   "outputs": [
    {
     "data": {
      "text/plain": [
       "2.037507645143717"
      ]
     },
     "execution_count": 33,
     "metadata": {},
     "output_type": "execute_result"
    }
   ],
   "source": [
    "FO(np.array([1.,1.]))"
   ]
  },
  {
   "cell_type": "markdown",
   "metadata": {},
   "source": [
    "Nesse momento o pacote precisa saber:\n",
    "* Os dados experimentais\n",
    "* Os tempos experimentais\n",
    "* A função objetivos\n",
    "* A solução do problema direto \n",
    "* O número de parâmetros"
   ]
  },
  {
   "cell_type": "code",
   "execution_count": 32,
   "metadata": {},
   "outputs": [],
   "source": [
    "ip.Definicoes_Preliminares.Set_Dados_Exp(Dados_Exp)\n",
    "ip.Definicoes_Preliminares.Set_Tempos_Exp(t_exp)\n",
    "ip.Definicoes_Preliminares.Set_FuncaoObjetivo(FO)\n",
    "ip.Definicoes_Preliminares.Set_Solucao_PD(SPD)\n",
    "ip.Definicoes_Preliminares.Set_Numero_Parametros(Z_exato.size)"
   ]
  },
  {
   "cell_type": "markdown",
   "metadata": {},
   "source": [
    "Note que ao passar a função objetivo o ipsimpy passa a utilizá-la da seguinte maneira:"
   ]
  },
  {
   "cell_type": "code",
   "execution_count": 34,
   "metadata": {},
   "outputs": [
    {
     "data": {
      "text/plain": [
       "2.037507645143717"
      ]
     },
     "execution_count": 34,
     "metadata": {},
     "output_type": "execute_result"
    }
   ],
   "source": [
    "ip.Definicoes_Preliminares.FO(np.array([1.,1.]))"
   ]
  },
  {
   "cell_type": "markdown",
   "metadata": {},
   "source": [
    "> A definição da função objetivo será de responsabilidade do usuário. Caso exista algum parâmetro de regularização este já deve ser inserido na formulação da FO."
   ]
  },
  {
   "cell_type": "markdown",
   "metadata": {},
   "source": [
    "## Análise de Sensibilidade"
   ]
  },
  {
   "cell_type": "markdown",
   "metadata": {},
   "source": []
  },
  {
   "cell_type": "markdown",
   "metadata": {},
   "source": []
  },
  {
   "cell_type": "code",
   "execution_count": 10,
   "metadata": {},
   "outputs": [],
   "source": [
    "t_sensibilidade=np.linspace(0.1,tf,100)"
   ]
  },
  {
   "cell_type": "code",
   "execution_count": 11,
   "metadata": {},
   "outputs": [],
   "source": [
    "def SPD_Sensibilidade(Z):\n",
    "    return Solucao(Z,t_sensibilidade)"
   ]
  },
  {
   "cell_type": "code",
   "execution_count": 12,
   "metadata": {
    "scrolled": true
   },
   "outputs": [],
   "source": [
    "Delta_h=np.array([10**-3,10**-3])\n",
    "Sensibilidade=ip.Analise_Sensibilidade(SPD_Sensibilidade,Z_exato,t_sensibilidade,Delta_h)"
   ]
  },
  {
   "cell_type": "code",
   "execution_count": 13,
   "metadata": {},
   "outputs": [
    {
     "data": {
      "image/png": "[encoded data removed]",
      "text/plain": [
       "<Figure size 432x288 with 1 Axes>"
      ]
     },
     "metadata": {
      "needs_background": "light"
     },
     "output_type": "display_data"
    }
   ],
   "source": [
    "plt.figure()\n",
    "plt.title(\"Análise de Sensibilidade\")\n",
    "plt.plot(t_sensibilidade,Sensibilidade.Parametro[0],label='a')\n",
    "plt.plot(t_sensibilidade,Sensibilidade.Parametro[1],label='b')\n",
    "plt.legend(frameon=False);"
   ]
  },
  {
   "cell_type": "code",
   "execution_count": 14,
   "metadata": {},
   "outputs": [
    {
     "data": {
      "image/png": "[encoded data removed]",
      "text/plain": [
       "<Figure size 432x288 with 1 Axes>"
      ]
     },
     "metadata": {
      "needs_background": "light"
     },
     "output_type": "display_data"
    }
   ],
   "source": [
    "plt.figure()\n",
    "plt.title(\"Análise de Sensibilidade Modificada\")\n",
    "plt.plot(t_sensibilidade,Z_exato[0]*Sensibilidade.Parametro[0],label='a')\n",
    "plt.plot(t_sensibilidade,Z_exato[1]*Sensibilidade.Parametro[1],label='b')\n",
    "plt.legend(frameon=False);"
   ]
  },
  {
   "cell_type": "markdown",
   "metadata": {},
   "source": [
    "#### Solução Problema Inverso Levemberg-Marquardt\n",
    "Para cada método de otimização é possível definir valores para algumas opções específicas opcionais. Essas opções são formuladas como um dicionário em python, por exemplo, podemos mudar o número de iterações do LM. Lembro que, por padrão, essas opções já possuem um valor defaut. Vejamos seus valores"
   ]
  },
  {
   "cell_type": "code",
   "execution_count": 15,
   "metadata": {
    "scrolled": true
   },
   "outputs": [
    {
     "data": {
      "text/plain": [
       "{'Omega': 10, 'MaxIter': 10, 'Tolerancia': 1e-05, 'VerOpcoes': False}"
      ]
     },
     "execution_count": 15,
     "metadata": {},
     "output_type": "execute_result"
    }
   ],
   "source": [
    "ip.Levemberg_Marquardt.Defaut"
   ]
  },
  {
   "cell_type": "markdown",
   "metadata": {},
   "source": [
    "**Obs:** As strings com os nomes das opçoes devem ser escritas do mesmo modo que estão definidas no defaut, caso contrário será acusado um erro ao se executar o método de otimização."
   ]
  },
  {
   "cell_type": "code",
   "execution_count": 16,
   "metadata": {},
   "outputs": [
    {
     "name": "stdout",
     "output_type": "stream",
     "text": [
      "Iteração: 10\n",
      " \n",
      "OPÇÕES LEVEMBERG MARQUARDT\n",
      "omega inicial=1e+01\n",
      "omega final=1e-07\n",
      "Pk= [0.99299757 2.48506476]\n",
      "Tolerância=1e-10\n",
      "Valor na FO=2.57005e-03\n",
      "Numero Máximo de Iterações= 10\n",
      "Numero de Iterações Utilizado= 10\n",
      "Passo h=[0.001 0.001]\n",
      " \n"
     ]
    }
   ],
   "source": [
    "Z0=np.array([2.0,5.0])\n",
    "Delta_h=np.array([10**-3,10**-3])\n",
    "opcoesLM={\"Omega\":10,\"MaxIter\":10,\"Tolerancia\":10**-10,\"VerOpcoes\":True}\n",
    "ResultadosLM=ip.Levemberg_Marquardt(FO,Z0,Delta_h,opcoesLM)"
   ]
  },
  {
   "cell_type": "markdown",
   "metadata": {},
   "source": [
    "A variável ResultadosLM guarda além dos parâmetros estimados, seu valor na FO, convergência e tempo de execução do processo iterativo, veja"
   ]
  },
  {
   "cell_type": "code",
   "execution_count": 17,
   "metadata": {},
   "outputs": [
    {
     "data": {
      "text/plain": [
       "array([0.99299757, 2.48506476])"
      ]
     },
     "execution_count": 17,
     "metadata": {},
     "output_type": "execute_result"
    }
   ],
   "source": [
    "ResultadosLM.Parametros_Estimados"
   ]
  },
  {
   "cell_type": "code",
   "execution_count": 18,
   "metadata": {},
   "outputs": [
    {
     "data": {
      "text/plain": [
       "0.002570053393949831"
      ]
     },
     "execution_count": 18,
     "metadata": {},
     "output_type": "execute_result"
    }
   ],
   "source": [
    "ResultadosLM.Valor_FO"
   ]
  },
  {
   "cell_type": "code",
   "execution_count": 19,
   "metadata": {},
   "outputs": [
    {
     "data": {
      "text/plain": [
       "array([0.5044683 , 0.39300259, 0.21804787, 0.00888775, 0.00257075,\n",
       "       0.00257005, 0.00257005, 0.00257005, 0.00257005, 0.00257005])"
      ]
     },
     "execution_count": 19,
     "metadata": {},
     "output_type": "execute_result"
    }
   ],
   "source": [
    "ResultadosLM.Convergencia"
   ]
  },
  {
   "cell_type": "code",
   "execution_count": 20,
   "metadata": {},
   "outputs": [
    {
     "data": {
      "text/plain": [
       "0.034982919692993164"
      ]
     },
     "execution_count": 20,
     "metadata": {},
     "output_type": "execute_result"
    }
   ],
   "source": [
    "ResultadosLM.Custo_Computacional"
   ]
  },
  {
   "cell_type": "markdown",
   "metadata": {},
   "source": [
    "**Obs:** Todos os outros métodos de minimização possuem essas mesmas características"
   ]
  },
  {
   "cell_type": "markdown",
   "metadata": {},
   "source": [
    "Vejamos a comparação dos gráficos entre as soluções com os parâmetros exatos e estimados juntamente com os dados experimentais "
   ]
  },
  {
   "cell_type": "code",
   "execution_count": 21,
   "metadata": {},
   "outputs": [
    {
     "data": {
      "text/plain": [
       "Text(0, 0.5, 'Solucao')"
      ]
     },
     "execution_count": 21,
     "metadata": {},
     "output_type": "execute_result"
    },
    {
     "data": {
      "image/png": "[encoded data removed]",
      "text/plain": [
       "<Figure size 432x288 with 1 Axes>"
      ]
     },
     "metadata": {
      "needs_background": "light"
     },
     "output_type": "display_data"
    }
   ],
   "source": [
    "plt.plot(t_exp,Dados_Exp,\".r\",ms=10)\n",
    "plt.plot(t_exp,ip.Definicoes_Preliminares.Solucao_PD(Z_exato),\"g\")\n",
    "plt.plot(t_exp,ip.Definicoes_Preliminares.Solucao_PD(ResultadosLM.Parametros_Estimados),\"--k\")\n",
    "plt.gca().legend(('Dados','Exato','LM'))\n",
    "plt.xlabel('t')\n",
    "plt.ylabel('Solucao')"
   ]
  },
  {
   "cell_type": "markdown",
   "metadata": {},
   "source": [
    "#### Solução Problema Inverso Evolução Diferencial\n",
    "Já para o Evolução Diferencial é necessário definir outros parâmetros específicos do método. Vejamos as opções defaut"
   ]
  },
  {
   "cell_type": "code",
   "execution_count": 22,
   "metadata": {},
   "outputs": [
    {
     "data": {
      "text/plain": [
       "{'F': 0.8, 'CR': 0.5, 'Gmax': 100, 'Tolerancia': 1e-05, 'VerOpcoes': False}"
      ]
     },
     "execution_count": 22,
     "metadata": {},
     "output_type": "execute_result"
    }
   ],
   "source": [
    "ip.Evolucao_Diferencial.Defaut"
   ]
  },
  {
   "cell_type": "markdown",
   "metadata": {},
   "source": [
    "Vamos então a solução do Problema Inverso"
   ]
  },
  {
   "cell_type": "code",
   "execution_count": 23,
   "metadata": {},
   "outputs": [
    {
     "name": "stdout",
     "output_type": "stream",
     "text": [
      "Geração: 50\n",
      "\n",
      "OPÇÕES EVOLUÇÃO DIFERENCIAL\n",
      "Tamanho População=20\n",
      "Numero Máximo de Gerações=50\n",
      "Numero de Gerações Utilizado=50\n",
      "Taxa de Mutacao=0.75\n",
      "Taxa de CrossOver=0.9\n",
      "Melhor Membro da População=[0.99299029 2.48501341]\n",
      "Valor na FO=2.570054e-03\n",
      "Tolerância=1e-10\n",
      "\n"
     ]
    }
   ],
   "source": [
    "limites=[(0.0,10.0),(0.0,10.0)]\n",
    "Tam_Populacao=20\n",
    "opcoesDE={\"F\":0.75, \"CR\":0.9, \"Gmax\":50, \"Tolerancia\":10**-10,\"VerOpcoes\":True}\n",
    "ResultadosDE=ip.Evolucao_Diferencial(FO,Tam_Populacao,limites,opcoesDE)"
   ]
  },
  {
   "cell_type": "markdown",
   "metadata": {},
   "source": [
    "Vamos mais uma vez os gráficos das curvas de solução usando os parâmetros exatos e os estimados usando o Pacote Problemas Inversos"
   ]
  },
  {
   "cell_type": "code",
   "execution_count": 24,
   "metadata": {},
   "outputs": [
    {
     "data": {
      "text/plain": [
       "Text(0, 0.5, 'Solucao')"
      ]
     },
     "execution_count": 24,
     "metadata": {},
     "output_type": "execute_result"
    },
    {
     "data": {
      "image/png": "[encoded data removed]",
      "text/plain": [
       "<Figure size 432x288 with 1 Axes>"
      ]
     },
     "metadata": {
      "needs_background": "light"
     },
     "output_type": "display_data"
    }
   ],
   "source": [
    "plt.plot(t_exp,Dados_Exp,\".r\",ms=10)\n",
    "plt.plot(t_exp,ip.Definicoes_Preliminares.Solucao_PD(Z_exato),\"g\")\n",
    "plt.plot(t_exp,ip.Definicoes_Preliminares.Solucao_PD(ResultadosDE.Parametros_Estimados),\"--\")\n",
    "plt.gca().legend(('Dados','Exato','ED'))\n",
    "plt.xlabel('t')\n",
    "plt.ylabel('Solucao')"
   ]
  },
  {
   "cell_type": "code",
   "execution_count": null,
   "metadata": {},
   "outputs": [],
   "source": []
  },
  {
   "cell_type": "markdown",
   "metadata": {},
   "source": [
    "#### Solução Problema Inverso Evolução Diferencial com Controle Populacional\n",
    "Vejamos as opções defaut"
   ]
  },
  {
   "cell_type": "code",
   "execution_count": 25,
   "metadata": {},
   "outputs": [
    {
     "data": {
      "text/plain": [
       "{'F': 0.8, 'CR': 0.5, 'Gmax': 100, 'Tolerancia': 1e-05, 'VerOpcoes': False}"
      ]
     },
     "execution_count": 25,
     "metadata": {},
     "output_type": "execute_result"
    }
   ],
   "source": [
    "ip.Evolucao_Diferencial_Controle_Pop.Defaut"
   ]
  },
  {
   "cell_type": "markdown",
   "metadata": {},
   "source": [
    "Vamos então a solução do Problema Inverso"
   ]
  },
  {
   "cell_type": "code",
   "execution_count": 26,
   "metadata": {},
   "outputs": [
    {
     "name": "stdout",
     "output_type": "stream",
     "text": [
      "Geração: 50\n",
      "OPÇÕES EVOLUÇÃO DIFERENCIAL\n",
      "Tamanho População=5\n",
      "Numero Máximo de Gerações=50\n",
      "Numero de Gerações Utilizado=50\n",
      "Taxa de Mutacao=0.75\n",
      "Taxa de CrossOver=0.9\n",
      "Melhor Membro da População=[0.9929006 2.4847825]\n",
      "Valor na FO=2.570064e-03\n",
      "Tolerância=1e-10\n",
      "\n"
     ]
    }
   ],
   "source": [
    "limites=[(0.0,10.0),(0.0,10.0)]\n",
    "Nmin=5\n",
    "Nmax=20\n",
    "opcoesIDE={\"F\":0.75, \"CR\":0.9, \"Gmax\":50, \"Tolerancia\":10**-10,\"VerOpcoes\":True}\n",
    "ResultadosIDE=ip.Evolucao_Diferencial_Controle_Pop(FO,Nmin,Nmax,limites,opcoesIDE)"
   ]
  },
  {
   "cell_type": "markdown",
   "metadata": {},
   "source": [
    "Vamos mais uma vez os gráficos das curvas de solução usando os parâmetros exatos e os estimados usando o Pacote Problemas Inversos"
   ]
  },
  {
   "cell_type": "code",
   "execution_count": 27,
   "metadata": {},
   "outputs": [
    {
     "data": {
      "text/plain": [
       "Text(0, 0.5, 'Solucao')"
      ]
     },
     "execution_count": 27,
     "metadata": {},
     "output_type": "execute_result"
    },
    {
     "data": {
      "image/png": "[encoded data removed]",
      "text/plain": [
       "<Figure size 432x288 with 1 Axes>"
      ]
     },
     "metadata": {
      "needs_background": "light"
     },
     "output_type": "display_data"
    }
   ],
   "source": [
    "plt.plot(t_exp,Dados_Exp,\".r\",ms=10)\n",
    "plt.plot(t_exp,ip.Definicoes_Preliminares.Solucao_PD(Z_exato),\"g\")\n",
    "plt.plot(t_exp,ip.Definicoes_Preliminares.Solucao_PD(ResultadosDE.Parametros_Estimados),\"--\")\n",
    "plt.gca().legend(('Dados','Exato','ED'))\n",
    "plt.xlabel('t')\n",
    "plt.ylabel('Solucao')"
   ]
  },
  {
   "cell_type": "code",
   "execution_count": 28,
   "metadata": {},
   "outputs": [
    {
     "data": {
      "text/plain": [
       "Text(0, 0.5, 'Tamanho População')"
      ]
     },
     "execution_count": 28,
     "metadata": {},
     "output_type": "execute_result"
    },
    {
     "data": {
      "image/png": "[encoded data removed]",
      "text/plain": [
       "<Figure size 432x288 with 1 Axes>"
      ]
     },
     "metadata": {
      "needs_background": "light"
     },
     "output_type": "display_data"
    }
   ],
   "source": [
    "iteracoes=np.arange(opcoesIDE[\"Gmax\"])\n",
    "\n",
    "plt.plot(iteracoes,ResultadosIDE.N_Populacao,\".-\",ms=10);\n",
    "plt.xlabel('Gerações')\n",
    "plt.ylabel('Tamanho População')"
   ]
  },
  {
   "cell_type": "markdown",
   "metadata": {},
   "source": [
    "#### Solução Problema Inverso PSO\n",
    "\n",
    "Por fim temos a solução empregando o Particle Swarm Optimization, sendo as opções defaut definidas como"
   ]
  },
  {
   "cell_type": "code",
   "execution_count": 29,
   "metadata": {},
   "outputs": [
    {
     "data": {
      "text/plain": [
       "{'w': 0.5,\n",
       " 'c1': 1.0,\n",
       " 'c2': 2.0,\n",
       " 'MaxIter': 100,\n",
       " 'Tolerancia': 1e-05,\n",
       " 'VerOpcoes': False}"
      ]
     },
     "execution_count": 29,
     "metadata": {},
     "output_type": "execute_result"
    }
   ],
   "source": [
    "ip.PSO.Defaut"
   ]
  },
  {
   "cell_type": "markdown",
   "metadata": {},
   "source": [
    "Aplicando agora o PSO ao problema inverso"
   ]
  },
  {
   "cell_type": "code",
   "execution_count": 30,
   "metadata": {},
   "outputs": [
    {
     "name": "stdout",
     "output_type": "stream",
     "text": [
      "Geração: 50\n",
      "OPÇÕES ENXAME DE PARTÍCULAS (PSO)\n",
      "Numero de Particulas=20\n",
      "Numero Máximo de Iterações=50\n",
      "Numero de Iterações Utilizado=50\n",
      "w=1.0\n",
      "c1=2.05\n",
      "c2=2.05\n",
      "Tolerancia=1e-10\n",
      "Melhor Elemento do Enxame= [0.99170375 2.48263104]\n",
      "Valor na FO=2.572136e-03\n",
      "\n"
     ]
    }
   ],
   "source": [
    "limites=([0.0,10.0],[0.0,10.0])\n",
    "N_particulas=20\n",
    "opcoesPSO={\"w\":1.0, \"c1\":2.05, \"c2\":2.05, \"MaxIter\":50, \"Tolerancia\":10**-10,\"VerOpcoes\":True}\n",
    "ResultadosPSO=ip.PSO(FO,N_particulas,limites,opcoesPSO)"
   ]
  },
  {
   "cell_type": "code",
   "execution_count": 31,
   "metadata": {},
   "outputs": [
    {
     "data": {
      "text/plain": [
       "<matplotlib.legend.Legend at 0x2494c3e5fa0>"
      ]
     },
     "execution_count": 31,
     "metadata": {},
     "output_type": "execute_result"
    },
    {
     "data": {
      "image/png": "[encoded data removed]",
      "text/plain": [
       "<Figure size 432x288 with 1 Axes>"
      ]
     },
     "metadata": {
      "needs_background": "light"
     },
     "output_type": "display_data"
    }
   ],
   "source": [
    "plt.plot(t_exp,Dados_Exp,\".g\",ms=10)\n",
    "plt.plot(t_exp,ip.Definicoes_Preliminares.Solucao_PD(Z_exato),\"r\")\n",
    "plt.plot(t_exp,ip.Definicoes_Preliminares.Solucao_PD(ResultadosPSO.Parametros_Estimados),\"--k\")\n",
    "plt.gca().legend(('Dados','Exato','PSO'))"
   ]
  },
  {
   "cell_type": "markdown",
   "metadata": {},
   "source": [
    "### Solução Problema Inverso MCMC\n",
    "\n",
    "Por fim temos a solução empregando o MCMC, sendo as opções defaut definidas como"
   ]
  },
  {
   "cell_type": "code",
   "execution_count": 34,
   "metadata": {},
   "outputs": [],
   "source": [
    "ip.Definicoes_Preliminares.Set_Matriz_Covariancia(Dados_Exp,sigma)\n",
    "Passo=np.array([10**-4,10**-4])"
   ]
  },
  {
   "cell_type": "code",
   "execution_count": 35,
   "metadata": {},
   "outputs": [],
   "source": [
    "Z0=np.array([2.0,4.0])"
   ]
  },
  {
   "cell_type": "code",
   "execution_count": 36,
   "metadata": {},
   "outputs": [
    {
     "name": "stdout",
     "output_type": "stream",
     "text": [
      "0.0002\n",
      "0.0004\n"
     ]
    }
   ],
   "source": [
    "print(Z0[0]*Passo[0])\n",
    "print(Z0[1]*Passo[1])"
   ]
  },
  {
   "cell_type": "code",
   "execution_count": 38,
   "metadata": {},
   "outputs": [
    {
     "name": "stdout",
     "output_type": "stream",
     "text": [
      "Estado: 10000\n"
     ]
    }
   ],
   "source": [
    "Nmcmc=10000\n",
    "Nburn=5000\n",
    "\n",
    "ResultadosMCMC=ip.MCMC_Sem_Priori(SPD,Z0,Nmcmc,Nburn,Passo)"
   ]
  },
  {
   "cell_type": "code",
   "execution_count": 39,
   "metadata": {},
   "outputs": [
    {
     "name": "stdout",
     "output_type": "stream",
     "text": [
      "Taxa de Aceitação: 49.04 %\n"
     ]
    }
   ],
   "source": [
    "print('Taxa de Aceitação:',ResultadosMCMC.Taxa_Aceitação*100,'%')"
   ]
  },
  {
   "cell_type": "code",
   "execution_count": 40,
   "metadata": {},
   "outputs": [
    {
     "data": {
      "text/plain": [
       "array([0.99454963, 2.49194612])"
      ]
     },
     "execution_count": 40,
     "metadata": {},
     "output_type": "execute_result"
    }
   ],
   "source": [
    "ResultadosMCMC.Media_Parametro"
   ]
  },
  {
   "cell_type": "code",
   "execution_count": 41,
   "metadata": {},
   "outputs": [
    {
     "name": "stdout",
     "output_type": "stream",
     "text": [
      "PARAMETROS ESTIMADOS\n",
      "a: 0.9945496291038708 com desvio padrão: 0.009155715243439673\n",
      "b: 2.491946122493987 com desvio padrão: 0.029344547148424976\n"
     ]
    }
   ],
   "source": [
    "print('PARAMETROS ESTIMADOS')\n",
    "print('a:',ResultadosMCMC.Media_Parametro[0],'com desvio padrão:',ResultadosMCMC.Desvio_Parametro[0])\n",
    "print('b:',ResultadosMCMC.Media_Parametro[1],'com desvio padrão:',ResultadosMCMC.Desvio_Parametro[1])"
   ]
  },
  {
   "cell_type": "code",
   "execution_count": 42,
   "metadata": {},
   "outputs": [
    {
     "name": "stdout",
     "output_type": "stream",
     "text": [
      "Intervalos de Confiança\n",
      "a: [0.96121868 1.02236602]\n",
      "b: [2.38641564 2.5694458 ]\n"
     ]
    }
   ],
   "source": [
    "print('Intervalos de Confiança')\n",
    "print('a:',ResultadosMCMC.Intervalo_Confianca[0])\n",
    "print('b:',ResultadosMCMC.Intervalo_Confianca[1])"
   ]
  },
  {
   "cell_type": "code",
   "execution_count": 45,
   "metadata": {},
   "outputs": [
    {
     "data": {
      "image/png": "[encoded data removed]",
      "text/plain": [
       "<Figure size 432x288 with 1 Axes>"
      ]
     },
     "metadata": {
      "needs_background": "light"
     },
     "output_type": "display_data"
    }
   ],
   "source": [
    "valor_exato0=np.zeros(Nmcmc);\n",
    "for i in range(Nmcmc):\n",
    "    valor_exato0[i]=Z_exato[0]\n",
    "\n",
    "plt.title('Cadeia a')\n",
    "plt.plot(ResultadosMCMC.Cadeias[:,0],\".\");\n",
    "plt.plot(valor_exato0,'r');"
   ]
  },
  {
   "cell_type": "code",
   "execution_count": 46,
   "metadata": {},
   "outputs": [
    {
     "data": {
      "image/png": "[encoded data removed]",
      "text/plain": [
       "<Figure size 432x288 with 1 Axes>"
      ]
     },
     "metadata": {
      "needs_background": "light"
     },
     "output_type": "display_data"
    }
   ],
   "source": [
    "valor_exato1=np.zeros(Nmcmc);\n",
    "for i in range(Nmcmc):\n",
    "    valor_exato1[i]=Z_exato[1]\n",
    "\n",
    "plt.title('Cadeia b')\n",
    "plt.plot(ResultadosMCMC.Cadeias[:,1],\".\");\n",
    "plt.plot(valor_exato1,'r');"
   ]
  },
  {
   "cell_type": "markdown",
   "metadata": {},
   "source": [
    "# Comparação dos Resultados"
   ]
  },
  {
   "cell_type": "code",
   "execution_count": 48,
   "metadata": {},
   "outputs": [
    {
     "name": "stdout",
     "output_type": "stream",
     "text": [
      "LM   = [0.99299757 2.48506476]\n",
      "DE   = [0.99299029 2.48501341]\n",
      "IDE  = [0.9929006 2.4847825]\n",
      "PSO  = [0.99170375 2.48263104]\n",
      "MCMC = [0.99454963 2.49194612]\n"
     ]
    }
   ],
   "source": [
    "print(\"LM   =\",ResultadosLM.Parametros_Estimados)\n",
    "print(\"DE   =\",ResultadosDE.Parametros_Estimados)\n",
    "print(\"IDE  =\",ResultadosIDE.Parametros_Estimados)\n",
    "print(\"PSO  =\",ResultadosPSO.Parametros_Estimados)\n",
    "print(\"MCMC =\",ResultadosMCMC.Media_Parametro)"
   ]
  },
  {
   "cell_type": "code",
   "execution_count": null,
   "metadata": {},
   "outputs": [],
   "source": []
  }
 ],
 "metadata": {
  "kernelspec": {
   "display_name": "base",
   "language": "python",
   "name": "python3"
  },
  "language_info": {
   "codemirror_mode": {
    "name": "ipython",
    "version": 3
   },
   "file_extension": ".py",
   "mimetype": "text/x-python",
   "name": "python",
   "nbconvert_exporter": "python",
   "pygments_lexer": "ipython3",
   "version": "3.12.7"
  },
  "varInspector": {
   "cols": {
    "lenName": 16,
    "lenType": 16,
    "lenVar": 40
   },
   "kernels_config": {
    "python": {
     "delete_cmd_postfix": "",
     "delete_cmd_prefix": "del ",
     "library": "var_list.py",
     "varRefreshCmd": "print(var_dic_list())"
    },
    "r": {
     "delete_cmd_postfix": ") ",
     "delete_cmd_prefix": "rm(",
     "library": "var_list.r",
     "varRefreshCmd": "cat(var_dic_list()) "
    }
   },
   "types_to_exclude": [
    "module",
    "function",
    "builtin_function_or_method",
    "instance",
    "_Feature"
   ],
   "window_display": false
  }
 },
 "nbformat": 4,
 "nbformat_minor": 4
}
